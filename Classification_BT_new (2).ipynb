{
  "cells": [
    {
      "cell_type": "code",
      "execution_count": 1,
      "metadata": {
        "id": "JCYcITeDQyzq",
        "colab": {
          "base_uri": "https://localhost:8080/"
        },
        "outputId": "355248d4-f089-4279-fcb3-d4a48a91140b"
      },
      "outputs": [
        {
          "output_type": "stream",
          "name": "stdout",
          "text": [
            "Drive already mounted at /content/drive; to attempt to forcibly remount, call drive.mount(\"/content/drive\", force_remount=True).\n"
          ]
        }
      ],
      "source": [
        "from google.colab import drive\n",
        "drive.mount('/content/drive')"
      ]
    },
    {
      "cell_type": "code",
      "execution_count": 2,
      "metadata": {
        "id": "WrCp5OeQYK1b"
      },
      "outputs": [],
      "source": [
        "import keras\n",
        "from keras.models import Sequential\n",
        "from keras.layers import Dense, Dropout, Flatten\n",
        "from keras.layers import Conv2D, MaxPooling2D, Conv3D, BatchNormalization, Activation\n",
        "from keras import backend as K\n",
        "import os\n",
        "from PIL import Image\n",
        "import numpy as np\n",
        "from sklearn.model_selection import train_test_split\n",
        "from sklearn.preprocessing import OneHotEncoder\n",
        "from tensorflow.keras.optimizers import Adam\n",
        "import matplotlib.pyplot as plt\n",
        "from matplotlib.pyplot import imshow\n",
        "import pandas as pd\n",
        "import seaborn as sns\n",
        "import cv2\n",
        "import tensorflow as tf\n",
        "from tensorflow.keras.preprocessing.image import ImageDataGenerator\n",
        "from tqdm import tqdm\n",
        "from sklearn.utils import shuffle\n",
        "from tensorflow.keras.applications import EfficientNetB0\n",
        "from tensorflow.keras.callbacks import EarlyStopping, ReduceLROnPlateau, TensorBoard, ModelCheckpoint\n",
        "from sklearn.metrics import classification_report,confusion_matrix,accuracy_score\n",
        "import ipywidgets as widgets\n",
        "import io\n",
        "from PIL import Image\n",
        "from IPython.display import display,clear_output\n",
        "from warnings import filterwarnings"
      ]
    },
    {
      "cell_type": "code",
      "execution_count": 3,
      "metadata": {
        "id": "pq5h2x1JTi15"
      },
      "outputs": [],
      "source": [
        "labels = ['glioma_tumor','meningioma_tumor','no_tumor','pituitary_tumor']"
      ]
    },
    {
      "cell_type": "code",
      "execution_count": 4,
      "metadata": {
        "id": "dawRYJjYTzke",
        "colab": {
          "base_uri": "https://localhost:8080/"
        },
        "outputId": "e76ff7a2-4963-4161-c5f7-7c569a1c84d1"
      },
      "outputs": [
        {
          "output_type": "stream",
          "name": "stderr",
          "text": [
            "100%|██████████| 826/826 [00:10<00:00, 75.76it/s]\n",
            "100%|██████████| 822/822 [00:09<00:00, 91.15it/s] \n",
            "100%|██████████| 395/395 [00:02<00:00, 186.38it/s]\n",
            "100%|██████████| 827/827 [00:05<00:00, 147.61it/s]\n",
            "100%|██████████| 826/826 [00:05<00:00, 161.04it/s]\n",
            "100%|██████████| 822/822 [00:04<00:00, 168.08it/s]\n",
            "100%|██████████| 395/395 [00:01<00:00, 199.11it/s]\n",
            "100%|██████████| 827/827 [00:05<00:00, 153.70it/s]\n"
          ]
        }
      ],
      "source": [
        "X_train = []\n",
        "y_train = []\n",
        "image_size = 150\n",
        "for i in labels:\n",
        "    folderPath = os.path.join('/content/drive/My Drive/Training',i)\n",
        "    for j in tqdm(os.listdir(folderPath)):\n",
        "        img = cv2.imread(os.path.join(folderPath,j))\n",
        "        img = cv2.resize(img,(image_size, image_size))\n",
        "        X_train.append(img)\n",
        "        y_train.append(i)\n",
        "        \n",
        "for i in labels:\n",
        "    folderPath = os.path.join('/content/drive/My Drive/Training',i)\n",
        "    for j in tqdm(os.listdir(folderPath)):\n",
        "        img = cv2.imread(os.path.join(folderPath,j))\n",
        "        img = cv2.resize(img,(image_size,image_size))\n",
        "        X_train.append(img)\n",
        "        y_train.append(i)\n",
        "        \n",
        "X_train = np.array(X_train)\n",
        "y_train = np.array(y_train)"
      ]
    },
    {
      "cell_type": "code",
      "execution_count": 5,
      "metadata": {
        "id": "bi5-Soe7XT0a"
      },
      "outputs": [],
      "source": [
        "X_train,X_test,y_train,y_test = train_test_split(X_train,y_train, test_size=0.1,random_state=101)"
      ]
    },
    {
      "cell_type": "code",
      "execution_count": 6,
      "metadata": {
        "id": "fOQ_UfbqXxEd"
      },
      "outputs": [],
      "source": [
        "y_train_new = []\n",
        "for i in y_train:\n",
        "    y_train_new.append(labels.index(i))\n",
        "y_train = y_train_new\n",
        "y_train = tf.keras.utils.to_categorical(y_train)\n",
        "\n",
        "\n",
        "y_test_new = []\n",
        "for i in y_test:\n",
        "    y_test_new.append(labels.index(i))\n",
        "y_test = y_test_new\n",
        "y_test = tf.keras.utils.to_categorical(y_test)"
      ]
    },
    {
      "cell_type": "code",
      "execution_count": 7,
      "metadata": {
        "id": "eECZ9cztX2ch"
      },
      "outputs": [],
      "source": [
        "effnet = EfficientNetB0(weights='imagenet',include_top=False,input_shape=(image_size,image_size,3))"
      ]
    },
    {
      "cell_type": "code",
      "execution_count": 8,
      "metadata": {
        "id": "S6dTPc7nYTtt",
        "colab": {
          "base_uri": "https://localhost:8080/"
        },
        "outputId": "78aaa896-01b2-4d81-ae24-a6f2b13a9f0c"
      },
      "outputs": [
        {
          "output_type": "stream",
          "name": "stdout",
          "text": [
            "Model: \"sequential\"\n",
            "_________________________________________________________________\n",
            " Layer (type)                Output Shape              Param #   \n",
            "=================================================================\n",
            " conv2d (Conv2D)             (None, 148, 148, 32)      896       \n",
            "                                                                 \n",
            " activation (Activation)     (None, 148, 148, 32)      0         \n",
            "                                                                 \n",
            " max_pooling2d (MaxPooling2D  (None, 74, 74, 32)       0         \n",
            " )                                                               \n",
            "                                                                 \n",
            " conv2d_1 (Conv2D)           (None, 72, 72, 32)        9248      \n",
            "                                                                 \n",
            " activation_1 (Activation)   (None, 72, 72, 32)        0         \n",
            "                                                                 \n",
            " max_pooling2d_1 (MaxPooling  (None, 36, 36, 32)       0         \n",
            " 2D)                                                             \n",
            "                                                                 \n",
            " flatten (Flatten)           (None, 41472)             0         \n",
            "                                                                 \n",
            " dense (Dense)               (None, 32)                1327136   \n",
            "                                                                 \n",
            " activation_2 (Activation)   (None, 32)                0         \n",
            "                                                                 \n",
            " dropout (Dropout)           (None, 32)                0         \n",
            "                                                                 \n",
            " dense_1 (Dense)             (None, 4)                 132       \n",
            "                                                                 \n",
            " activation_3 (Activation)   (None, 4)                 0         \n",
            "                                                                 \n",
            "=================================================================\n",
            "Total params: 1,337,412\n",
            "Trainable params: 1,337,412\n",
            "Non-trainable params: 0\n",
            "_________________________________________________________________\n",
            "None\n"
          ]
        }
      ],
      "source": [
        "model = Sequential()\n",
        "\n",
        "model.add(Conv2D(32, (3, 3), input_shape=(150,150,3)))\n",
        "model.add(Activation('relu'))\n",
        "model.add(MaxPooling2D(pool_size=(2, 2)))\n",
        "model.add(Conv2D(32, (3, 3))) \n",
        "model.add(Activation('relu'))           \n",
        "model.add(MaxPooling2D(pool_size=(2, 2)))  \n",
        "model.add(Flatten())\n",
        "model.add(Dense(32))\n",
        "model.add(Activation('relu'))\n",
        "model.add(Dropout(0.25))\n",
        "model.add(Dense(4))\n",
        "model.add(Activation('softmax'))\n",
        "\n",
        "model.compile(loss = \"categorical_crossentropy\", optimizer='adam')\n",
        "print(model.summary())"
      ]
    },
    {
      "cell_type": "code",
      "execution_count": 9,
      "metadata": {
        "id": "Aff2BcPZZuCT"
      },
      "outputs": [],
      "source": [
        "model.compile(loss='categorical_crossentropy',optimizer = 'Adam', metrics= ['accuracy'])"
      ]
    },
    {
      "cell_type": "code",
      "execution_count": 10,
      "metadata": {
        "id": "y1034UM3Z2T8"
      },
      "outputs": [],
      "source": [
        "tensorboard = TensorBoard(log_dir = 'logs')\n",
        "checkpoint = ModelCheckpoint(\"sequential.h5\",monitor=\"val_accuracy\",save_best_only=True,mode=\"auto\",verbose=1)\n",
        "reduce_lr = ReduceLROnPlateau(monitor = 'val_accuracy', factor = 0.3, patience = 2, min_delta = 0.001,\n",
        "                              mode='auto',verbose=1)"
      ]
    },
    {
      "cell_type": "code",
      "execution_count": 11,
      "metadata": {
        "colab": {
          "base_uri": "https://localhost:8080/"
        },
        "id": "h2euSP0jZ4ay",
        "outputId": "412e8fc4-6fb0-46d4-a42c-fcc95d5747d8"
      },
      "outputs": [
        {
          "output_type": "stream",
          "name": "stdout",
          "text": [
            "Epoch 1/12\n",
            "146/146 [==============================] - ETA: 0s - loss: 5.6125 - accuracy: 0.6608\n",
            "Epoch 1: val_accuracy improved from -inf to 0.86267, saving model to sequential.h5\n",
            "146/146 [==============================] - 99s 674ms/step - loss: 5.6125 - accuracy: 0.6608 - val_loss: 0.4009 - val_accuracy: 0.8627 - lr: 0.0010\n",
            "Epoch 2/12\n",
            "146/146 [==============================] - ETA: 0s - loss: 0.3627 - accuracy: 0.8634\n",
            "Epoch 2: val_accuracy improved from 0.86267 to 0.93424, saving model to sequential.h5\n",
            "146/146 [==============================] - 99s 676ms/step - loss: 0.3627 - accuracy: 0.8634 - val_loss: 0.2514 - val_accuracy: 0.9342 - lr: 0.0010\n",
            "Epoch 3/12\n",
            "146/146 [==============================] - ETA: 0s - loss: 0.2224 - accuracy: 0.9219\n",
            "Epoch 3: val_accuracy improved from 0.93424 to 0.95745, saving model to sequential.h5\n",
            "146/146 [==============================] - 95s 653ms/step - loss: 0.2224 - accuracy: 0.9219 - val_loss: 0.1373 - val_accuracy: 0.9574 - lr: 0.0010\n",
            "Epoch 4/12\n",
            "146/146 [==============================] - ETA: 0s - loss: 0.1606 - accuracy: 0.9419\n",
            "Epoch 4: val_accuracy improved from 0.95745 to 0.96132, saving model to sequential.h5\n",
            "146/146 [==============================] - 93s 639ms/step - loss: 0.1606 - accuracy: 0.9419 - val_loss: 0.1365 - val_accuracy: 0.9613 - lr: 0.0010\n",
            "Epoch 5/12\n",
            "146/146 [==============================] - ETA: 0s - loss: 0.1325 - accuracy: 0.9544\n",
            "Epoch 5: val_accuracy improved from 0.96132 to 0.98066, saving model to sequential.h5\n",
            "146/146 [==============================] - 98s 670ms/step - loss: 0.1325 - accuracy: 0.9544 - val_loss: 0.0944 - val_accuracy: 0.9807 - lr: 0.0010\n",
            "Epoch 6/12\n",
            "146/146 [==============================] - ETA: 0s - loss: 0.1158 - accuracy: 0.9606\n",
            "Epoch 6: val_accuracy did not improve from 0.98066\n",
            "146/146 [==============================] - 95s 652ms/step - loss: 0.1158 - accuracy: 0.9606 - val_loss: 0.1695 - val_accuracy: 0.9652 - lr: 0.0010\n",
            "Epoch 7/12\n",
            "146/146 [==============================] - ETA: 0s - loss: 0.1011 - accuracy: 0.9645\n",
            "Epoch 7: val_accuracy did not improve from 0.98066\n",
            "\n",
            "Epoch 7: ReduceLROnPlateau reducing learning rate to 0.0003000000142492354.\n",
            "146/146 [==============================] - 95s 651ms/step - loss: 0.1011 - accuracy: 0.9645 - val_loss: 0.1939 - val_accuracy: 0.9594 - lr: 0.0010\n",
            "Epoch 8/12\n",
            "146/146 [==============================] - ETA: 0s - loss: 0.0925 - accuracy: 0.9710\n",
            "Epoch 8: val_accuracy improved from 0.98066 to 0.98259, saving model to sequential.h5\n",
            "146/146 [==============================] - 96s 656ms/step - loss: 0.0925 - accuracy: 0.9710 - val_loss: 0.1174 - val_accuracy: 0.9826 - lr: 3.0000e-04\n",
            "Epoch 9/12\n",
            "146/146 [==============================] - ETA: 0s - loss: 0.0552 - accuracy: 0.9813\n",
            "Epoch 9: val_accuracy did not improve from 0.98259\n",
            "146/146 [==============================] - 98s 669ms/step - loss: 0.0552 - accuracy: 0.9813 - val_loss: 0.1254 - val_accuracy: 0.9807 - lr: 3.0000e-04\n",
            "Epoch 10/12\n",
            "146/146 [==============================] - ETA: 0s - loss: 0.0487 - accuracy: 0.9796\n",
            "Epoch 10: val_accuracy did not improve from 0.98259\n",
            "\n",
            "Epoch 10: ReduceLROnPlateau reducing learning rate to 9.000000427477062e-05.\n",
            "146/146 [==============================] - 97s 667ms/step - loss: 0.0487 - accuracy: 0.9796 - val_loss: 0.1475 - val_accuracy: 0.9826 - lr: 3.0000e-04\n",
            "Epoch 11/12\n",
            "146/146 [==============================] - ETA: 0s - loss: 0.0497 - accuracy: 0.9794\n",
            "Epoch 11: val_accuracy did not improve from 0.98259\n",
            "146/146 [==============================] - 95s 654ms/step - loss: 0.0497 - accuracy: 0.9794 - val_loss: 0.1345 - val_accuracy: 0.9807 - lr: 9.0000e-05\n",
            "Epoch 12/12\n",
            "146/146 [==============================] - ETA: 0s - loss: 0.0452 - accuracy: 0.9804\n",
            "Epoch 12: val_accuracy did not improve from 0.98259\n",
            "\n",
            "Epoch 12: ReduceLROnPlateau reducing learning rate to 2.700000040931627e-05.\n",
            "146/146 [==============================] - 93s 640ms/step - loss: 0.0452 - accuracy: 0.9804 - val_loss: 0.1255 - val_accuracy: 0.9807 - lr: 9.0000e-05\n"
          ]
        }
      ],
      "source": [
        "history = model.fit(X_train,y_train,validation_split=0.1, epochs =12, verbose=1, batch_size=32,\n",
        "                   callbacks=[tensorboard,checkpoint,reduce_lr])"
      ]
    },
    {
      "cell_type": "code",
      "execution_count": 12,
      "metadata": {
        "id": "-U1yG0axsfig",
        "colab": {
          "base_uri": "https://localhost:8080/",
          "height": 233
        },
        "outputId": "a750891e-bbd4-4106-afd2-ee13aac81321"
      },
      "outputs": [
        {
          "output_type": "display_data",
          "data": {
            "text/plain": [
              "<Figure size 360x72 with 1 Axes>"
            ],
            "image/png": "[encoded data removed]"
          },
          "metadata": {
            "needs_background": "light"
          }
        },
        {
          "output_type": "display_data",
          "data": {
            "text/plain": [
              "<Figure size 360x72 with 1 Axes>"
            ],
            "image/png": "[encoded data removed]"
          },
          "metadata": {
            "needs_background": "light"
          }
        },
        {
          "output_type": "display_data",
          "data": {
            "text/plain": [
              "<Figure size 360x72 with 1 Axes>"
            ],
            "image/png": "[encoded data removed]"
          },
          "metadata": {
            "needs_background": "light"
          }
        }
      ],
      "source": [
        "colors_dark = [\"#1F1F1F\", \"#313131\", '#636363', '#AEAEAE', '#DADADA']\n",
        "colors_red = [\"#331313\", \"#582626\", '#9E1717', '#D35151', '#E9B4B4']\n",
        "colors_green = ['#01411C','#4B6F44','#4F7942','#74C365','#D0F0C0']\n",
        "\n",
        "sns.palplot(colors_dark)\n",
        "sns.palplot(colors_green)\n",
        "sns.palplot(colors_red)"
      ]
    },
    {
      "cell_type": "code",
      "execution_count": 13,
      "metadata": {
        "id": "txR7apoYsoox",
        "colab": {
          "base_uri": "https://localhost:8080/",
          "height": 518
        },
        "outputId": "46cd5112-0b49-4458-994b-dbaa857b63e7"
      },
      "outputs": [
        {
          "output_type": "display_data",
          "data": {
            "text/plain": [
              "<Figure size 1008x504 with 2 Axes>"
            ],
            "image/png": "[encoded data removed]"
          },
          "metadata": {
            "needs_background": "light"
          }
        }
      ],
      "source": [
        "filterwarnings('ignore')\n",
        "\n",
        "epochs = [i for i in range(12)]\n",
        "fig, ax = plt.subplots(1,2,figsize=(14,7))\n",
        "train_acc = history.history['accuracy']\n",
        "train_loss = history.history['loss']\n",
        "val_acc = history.history['val_accuracy']\n",
        "val_loss = history.history['val_loss']\n",
        "\n",
        "fig.text(s='Epochs vs. Training and Validation Accuracy/Loss',size=18,fontweight='bold',\n",
        "             fontname='monospace',color=colors_dark[1],y=1,x=0.28,alpha=0.8)\n",
        "\n",
        "sns.despine()\n",
        "ax[0].plot(epochs, train_acc, marker='o',markerfacecolor=colors_green[2],color=colors_green[3],\n",
        "           label = 'Training Accuracy')\n",
        "ax[0].plot(epochs, val_acc, marker='o',markerfacecolor=colors_red[2],color=colors_red[3],\n",
        "           label = 'Validation Accuracy')\n",
        "ax[0].legend(frameon=False)\n",
        "ax[0].set_xlabel('Epochs')\n",
        "ax[0].set_ylabel('Accuracy')\n",
        "\n",
        "sns.despine()\n",
        "ax[1].plot(epochs, train_loss, marker='o',markerfacecolor=colors_green[2],color=colors_green[3],\n",
        "           label ='Training Loss')\n",
        "ax[1].plot(epochs, val_loss, marker='o',markerfacecolor=colors_red[2],color=colors_red[3],\n",
        "           label = 'Validation Loss')\n",
        "ax[1].legend(frameon=False)\n",
        "ax[1].set_xlabel('Epochs')\n",
        "ax[1].set_ylabel('Training & Validation Loss')\n",
        "\n",
        "fig.show()"
      ]
    },
    {
      "cell_type": "code",
      "execution_count": 14,
      "metadata": {
        "id": "CV13NDYaixYd"
      },
      "outputs": [],
      "source": [
        "pred = model.predict(X_test)\n",
        "pred = np.argmax(pred,axis=1)\n",
        "y_test_new = np.argmax(y_test,axis=1)"
      ]
    },
    {
      "cell_type": "code",
      "execution_count": 15,
      "metadata": {
        "id": "SZ4djo6xsw3d",
        "colab": {
          "base_uri": "https://localhost:8080/",
          "height": 464
        },
        "outputId": "53bd5e59-206f-453a-cb75-221d8e538a4e"
      },
      "outputs": [
        {
          "output_type": "display_data",
          "data": {
            "text/plain": [
              "<Figure size 1008x504 with 1 Axes>"
            ],
            "image/png": "[encoded data removed]"
          },
          "metadata": {
            "needs_background": "light"
          }
        }
      ],
      "source": [
        "fig,ax=plt.subplots(1,1,figsize=(14,7))\n",
        "sns.heatmap(confusion_matrix(y_test_new,pred),ax=ax,xticklabels=labels,yticklabels=labels,annot=True,\n",
        "           cmap=colors_green[::-1],alpha=0.7,linewidths=2,linecolor=colors_dark[3],cbar=False,fmt='g')\n",
        "fig.text(s='Heatmap of the Confusion Matrix',size=18,fontweight='bold',\n",
        "             fontname='monospace',color=colors_dark[1],y=0.92,x=0.28,alpha=0.8)\n",
        "\n",
        "plt.show()"
      ]
    },
    {
      "cell_type": "code",
      "execution_count": 16,
      "metadata": {
        "id": "ZuwPqmTDi3lU",
        "colab": {
          "base_uri": "https://localhost:8080/"
        },
        "outputId": "ef036472-afc1-4079-b63d-594218b66e81"
      },
      "outputs": [
        {
          "output_type": "stream",
          "name": "stdout",
          "text": [
            "              precision    recall  f1-score   support\n",
            "\n",
            "           0       1.00      0.99      0.99       175\n",
            "           1       0.98      0.98      0.98       161\n",
            "           2       0.96      0.96      0.96        67\n",
            "           3       0.99      1.00      1.00       171\n",
            "\n",
            "    accuracy                           0.99       574\n",
            "   macro avg       0.98      0.98      0.98       574\n",
            "weighted avg       0.99      0.99      0.99       574\n",
            "\n"
          ]
        }
      ],
      "source": [
        "print(classification_report(y_test_new,pred))"
      ]
    },
    {
      "cell_type": "code",
      "execution_count": 17,
      "metadata": {
        "id": "22J-M7fvzy8Y",
        "colab": {
          "base_uri": "https://localhost:8080/"
        },
        "outputId": "18b564b5-f6f8-4467-ff38-7a1f4e707070"
      },
      "outputs": [
        {
          "output_type": "execute_result",
          "data": {
            "text/plain": [
              "0.9860627177700348"
            ]
          },
          "metadata": {},
          "execution_count": 17
        }
      ],
      "source": [
        "accuracy_score(y_test_new,pred, normalize=True, sample_weight=None)"
      ]
    },
    {
      "cell_type": "code",
      "execution_count": 18,
      "metadata": {
        "id": "rKQpG_KFlM-x"
      },
      "outputs": [],
      "source": [
        "def img_pred(upload):\n",
        "    for name, file_info in uploader.value.items():\n",
        "        img = Image.open(io.BytesIO(file_info['content']))\n",
        "    opencvImage = cv2.cvtColor(np.array(img), cv2.COLOR_RGB2BGR)\n",
        "    img = cv2.resize(opencvImage,(150,150))\n",
        "    img = img.reshape(1,150,150,3)\n",
        "    p = model.predict(img)\n",
        "    p = np.argmax(p,axis=1)[0]\n",
        "\n",
        "    if p==0:\n",
        "        p='Glioma Tumor'\n",
        "    elif p==1:\n",
        "        print('Meningioma Tumor ')\n",
        "    elif p==2:\n",
        "        p='no_tumor'\n",
        "    else:\n",
        "        p='Pituitary Tumor'\n",
        "\n",
        "    if p!=1:\n",
        "        print(f'The Model detects that it is a {p}')"
      ]
    },
    {
      "cell_type": "code",
      "execution_count": 35,
      "metadata": {
        "id": "zhNX-na3lSsV",
        "colab": {
          "base_uri": "https://localhost:8080/",
          "height": 49,
          "referenced_widgets": [
            "6a3cf8c0c75f484fa6afe1385d74c59e",
            "2bd4e2685f2e40a6b724bcc4763ef620",
            "cc4d99a39f294d1693bd76cd7c3e0cd5"
          ]
        },
        "outputId": "92d20fb4-889f-46ed-9201-41bbf871ed58"
      },
      "outputs": [
        {
          "output_type": "display_data",
          "data": {
            "text/plain": [
              "FileUpload(value={}, description='Upload')"
            ],
            "application/vnd.jupyter.widget-view+json": {
              "version_major": 2,
              "version_minor": 0,
              "model_id": "6a3cf8c0c75f484fa6afe1385d74c59e"
            }
          },
          "metadata": {}
        }
      ],
      "source": [
        "uploader = widgets.FileUpload()\n",
        "display(uploader)"
      ]
    },
    {
      "cell_type": "code",
      "execution_count": 36,
      "metadata": {
        "id": "LXIvBgDBlci1",
        "colab": {
          "base_uri": "https://localhost:8080/",
          "height": 67,
          "referenced_widgets": [
            "f5ce13944b3646c28f67a8bb0143cff2",
            "d07762cf45b842dfad4d7c6bd04053af",
            "de4357e640b34292a8b5a46efc202f7a",
            "5b39c04a409c46eea757211f3c406ac3",
            "7b4018c2ce694a61bdb0912430a6807b",
            "b36d81c8d3254b639339064cdd2b98ac",
            "fc5b75a372e440b78e2883d29637399e"
          ]
        },
        "outputId": "4bfa5a73-0440-4b38-f89c-6afd981970e3"
      },
      "outputs": [
        {
          "output_type": "display_data",
          "data": {
            "text/plain": [
              "VBox(children=(Button(description='Detect', style=ButtonStyle()), Output()))"
            ],
            "application/vnd.jupyter.widget-view+json": {
              "version_major": 2,
              "version_minor": 0,
              "model_id": "f5ce13944b3646c28f67a8bb0143cff2"
            }
          },
          "metadata": {}
        }
      ],
      "source": [
        "button = widgets.Button(description='Detect')\n",
        "out = widgets.Output()\n",
        "def on_button_clicked(_):\n",
        "    with out:\n",
        "        clear_output()\n",
        "        try:\n",
        "            img_pred(uploader)\n",
        "            \n",
        "        except:\n",
        "            print('No Image Uploaded/Invalid Image File')\n",
        "button.on_click(on_button_clicked)\n",
        "widgets.VBox([button,out])"
      ]
    }
  ],
  "metadata": {
    "colab": {
      "collapsed_sections": [],
      "name": "Classification_BT_new.ipynb",
      "provenance": []
    },
    "kernelspec": {
      "display_name": "Python 3",
      "language": "python",
      "name": "python3"
    },
    "language_info": {
      "codemirror_mode": {
        "name": "ipython",
        "version": 3
      },
      "file_extension": ".py",
      "mimetype": "text/x-python",
      "name": "python",
      "nbconvert_exporter": "python",
      "pygments_lexer": "ipython3",
      "version": "3.7.7"
    },
    "widgets": {
      "application/vnd.jupyter.widget-state+json": {
        "6a3cf8c0c75f484fa6afe1385d74c59e": {
          "model_module": "@jupyter-widgets/controls",
          "model_name": "FileUploadModel",
          "model_module_version": "1.5.0",
          "state": {
            "_counter": 1,
            "_dom_classes": [],
            "_model_module": "@jupyter-widgets/controls",
            "_model_module_version": "1.5.0",
            "_model_name": "FileUploadModel",
            "_view_count": null,
            "_view_module": "@jupyter-widgets/controls",
            "_view_module_version": "1.5.0",
            "_view_name": "FileUploadView",
            "accept": "",
            "button_style": "",
            "data": [
              null
            ],
            "description": "Upload",
            "description_tooltip": null,
            "disabled": false,
            "error": "",
            "icon": "upload",
            "layout": "IPY_MODEL_2bd4e2685f2e40a6b724bcc4763ef620",
            "metadata": [
              {
                "name": "gg (22).jpg",
                "type": "image/jpeg",
                "size": 19739,
                "lastModified": 1590317710000
              }
            ],
            "multiple": false,
            "style": "IPY_MODEL_cc4d99a39f294d1693bd76cd7c3e0cd5"
          }
        },
        "2bd4e2685f2e40a6b724bcc4763ef620": {
          "model_module": "@jupyter-widgets/base",
          "model_name": "LayoutModel",
          "model_module_version": "1.2.0",
          "state": {
            "_model_module": "@jupyter-widgets/base",
            "_model_module_version": "1.2.0",
            "_model_name": "LayoutModel",
            "_view_count": null,
            "_view_module": "@jupyter-widgets/base",
            "_view_module_version": "1.2.0",
            "_view_name": "LayoutView",
            "align_content": null,
            "align_items": null,
            "align_self": null,
            "border": null,
            "bottom": null,
            "display": null,
            "flex": null,
            "flex_flow": null,
            "grid_area": null,
            "grid_auto_columns": null,
            "grid_auto_flow": null,
            "grid_auto_rows": null,
            "grid_column": null,
            "grid_gap": null,
            "grid_row": null,
            "grid_template_areas": null,
            "grid_template_columns": null,
            "grid_template_rows": null,
            "height": null,
            "justify_content": null,
            "justify_items": null,
            "left": null,
            "margin": null,
            "max_height": null,
            "max_width": null,
            "min_height": null,
            "min_width": null,
            "object_fit": null,
            "object_position": null,
            "order": null,
            "overflow": null,
            "overflow_x": null,
            "overflow_y": null,
            "padding": null,
            "right": null,
            "top": null,
            "visibility": null,
            "width": null
          }
        },
        "cc4d99a39f294d1693bd76cd7c3e0cd5": {
          "model_module": "@jupyter-widgets/controls",
          "model_name": "ButtonStyleModel",
          "model_module_version": "1.5.0",
          "state": {
            "_model_module": "@jupyter-widgets/controls",
            "_model_module_version": "1.5.0",
            "_model_name": "ButtonStyleModel",
            "_view_count": null,
            "_view_module": "@jupyter-widgets/base",
            "_view_module_version": "1.2.0",
            "_view_name": "StyleView",
            "button_color": null,
            "font_weight": ""
          }
        },
        "f5ce13944b3646c28f67a8bb0143cff2": {
          "model_module": "@jupyter-widgets/controls",
          "model_name": "VBoxModel",
          "model_module_version": "1.5.0",
          "state": {
            "_dom_classes": [],
            "_model_module": "@jupyter-widgets/controls",
            "_model_module_version": "1.5.0",
            "_model_name": "VBoxModel",
            "_view_count": null,
            "_view_module": "@jupyter-widgets/controls",
            "_view_module_version": "1.5.0",
            "_view_name": "VBoxView",
            "box_style": "",
            "children": [
              "IPY_MODEL_d07762cf45b842dfad4d7c6bd04053af",
              "IPY_MODEL_de4357e640b34292a8b5a46efc202f7a"
            ],
            "layout": "IPY_MODEL_5b39c04a409c46eea757211f3c406ac3"
          }
        },
        "d07762cf45b842dfad4d7c6bd04053af": {
          "model_module": "@jupyter-widgets/controls",
          "model_name": "ButtonModel",
          "model_module_version": "1.5.0",
          "state": {
            "_dom_classes": [],
            "_model_module": "@jupyter-widgets/controls",
            "_model_module_version": "1.5.0",
            "_model_name": "ButtonModel",
            "_view_count": null,
            "_view_module": "@jupyter-widgets/controls",
            "_view_module_version": "1.5.0",
            "_view_name": "ButtonView",
            "button_style": "",
            "description": "Detect",
            "disabled": false,
            "icon": "",
            "layout": "IPY_MODEL_7b4018c2ce694a61bdb0912430a6807b",
            "style": "IPY_MODEL_b36d81c8d3254b639339064cdd2b98ac",
            "tooltip": ""
          }
        },
        "de4357e640b34292a8b5a46efc202f7a": {
          "model_module": "@jupyter-widgets/output",
          "model_name": "OutputModel",
          "model_module_version": "1.0.0",
          "state": {
            "_dom_classes": [],
            "_model_module": "@jupyter-widgets/output",
            "_model_module_version": "1.0.0",
            "_model_name": "OutputModel",
            "_view_count": null,
            "_view_module": "@jupyter-widgets/output",
            "_view_module_version": "1.0.0",
            "_view_name": "OutputView",
            "layout": "IPY_MODEL_fc5b75a372e440b78e2883d29637399e",
            "msg_id": "",
            "outputs": [
              {
                "output_type": "stream",
                "name": "stdout",
                "text": [
                  "The Model detects that it is a Glioma Tumor\n"
                ]
              }
            ]
          }
        },
        "5b39c04a409c46eea757211f3c406ac3": {
          "model_module": "@jupyter-widgets/base",
          "model_name": "LayoutModel",
          "model_module_version": "1.2.0",
          "state": {
            "_model_module": "@jupyter-widgets/base",
            "_model_module_version": "1.2.0",
            "_model_name": "LayoutModel",
            "_view_count": null,
            "_view_module": "@jupyter-widgets/base",
            "_view_module_version": "1.2.0",
            "_view_name": "LayoutView",
            "align_content": null,
            "align_items": null,
            "align_self": null,
            "border": null,
            "bottom": null,
            "display": null,
            "flex": null,
            "flex_flow": null,
            "grid_area": null,
            "grid_auto_columns": null,
            "grid_auto_flow": null,
            "grid_auto_rows": null,
            "grid_column": null,
            "grid_gap": null,
            "grid_row": null,
            "grid_template_areas": null,
            "grid_template_columns": null,
            "grid_template_rows": null,
            "height": null,
            "justify_content": null,
            "justify_items": null,
            "left": null,
            "margin": null,
            "max_height": null,
            "max_width": null,
            "min_height": null,
            "min_width": null,
            "object_fit": null,
            "object_position": null,
            "order": null,
            "overflow": null,
            "overflow_x": null,
            "overflow_y": null,
            "padding": null,
            "right": null,
            "top": null,
            "visibility": null,
            "width": null
          }
        },
        "7b4018c2ce694a61bdb0912430a6807b": {
          "model_module": "@jupyter-widgets/base",
          "model_name": "LayoutModel",
          "model_module_version": "1.2.0",
          "state": {
            "_model_module": "@jupyter-widgets/base",
            "_model_module_version": "1.2.0",
            "_model_name": "LayoutModel",
            "_view_count": null,
            "_view_module": "@jupyter-widgets/base",
            "_view_module_version": "1.2.0",
            "_view_name": "LayoutView",
            "align_content": null,
            "align_items": null,
            "align_self": null,
            "border": null,
            "bottom": null,
            "display": null,
            "flex": null,
            "flex_flow": null,
            "grid_area": null,
            "grid_auto_columns": null,
            "grid_auto_flow": null,
            "grid_auto_rows": null,
            "grid_column": null,
            "grid_gap": null,
            "grid_row": null,
            "grid_template_areas": null,
            "grid_template_columns": null,
            "grid_template_rows": null,
            "height": null,
            "justify_content": null,
            "justify_items": null,
            "left": null,
            "margin": null,
            "max_height": null,
            "max_width": null,
            "min_height": null,
            "min_width": null,
            "object_fit": null,
            "object_position": null,
            "order": null,
            "overflow": null,
            "overflow_x": null,
            "overflow_y": null,
            "padding": null,
            "right": null,
            "top": null,
            "visibility": null,
            "width": null
          }
        },
        "b36d81c8d3254b639339064cdd2b98ac": {
          "model_module": "@jupyter-widgets/controls",
          "model_name": "ButtonStyleModel",
          "model_module_version": "1.5.0",
          "state": {
            "_model_module": "@jupyter-widgets/controls",
            "_model_module_version": "1.5.0",
            "_model_name": "ButtonStyleModel",
            "_view_count": null,
            "_view_module": "@jupyter-widgets/base",
            "_view_module_version": "1.2.0",
            "_view_name": "StyleView",
            "button_color": null,
            "font_weight": ""
          }
        },
        "fc5b75a372e440b78e2883d29637399e": {
          "model_module": "@jupyter-widgets/base",
          "model_name": "LayoutModel",
          "model_module_version": "1.2.0",
          "state": {
            "_model_module": "@jupyter-widgets/base",
            "_model_module_version": "1.2.0",
            "_model_name": "LayoutModel",
            "_view_count": null,
            "_view_module": "@jupyter-widgets/base",
            "_view_module_version": "1.2.0",
            "_view_name": "LayoutView",
            "align_content": null,
            "align_items": null,
            "align_self": null,
            "border": null,
            "bottom": null,
            "display": null,
            "flex": null,
            "flex_flow": null,
            "grid_area": null,
            "grid_auto_columns": null,
            "grid_auto_flow": null,
            "grid_auto_rows": null,
            "grid_column": null,
            "grid_gap": null,
            "grid_row": null,
            "grid_template_areas": null,
            "grid_template_columns": null,
            "grid_template_rows": null,
            "height": null,
            "justify_content": null,
            "justify_items": null,
            "left": null,
            "margin": null,
            "max_height": null,
            "max_width": null,
            "min_height": null,
            "min_width": null,
            "object_fit": null,
            "object_position": null,
            "order": null,
            "overflow": null,
            "overflow_x": null,
            "overflow_y": null,
            "padding": null,
            "right": null,
            "top": null,
            "visibility": null,
            "width": null
          }
        }
      }
    }
  },
  "nbformat": 4,
  "nbformat_minor": 0
}